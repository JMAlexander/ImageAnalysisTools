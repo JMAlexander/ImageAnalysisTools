{
 "cells": [
  {
   "cell_type": "code",
   "execution_count": 272,
   "metadata": {
    "collapsed": true
   },
   "outputs": [],
   "source": [
    "### Python Notebook for Working through Common Stats"
   ]
  },
  {
   "cell_type": "code",
   "execution_count": 273,
   "metadata": {
    "collapsed": true
   },
   "outputs": [],
   "source": [
    "import numpy as np\n",
    "import scipy as sc\n",
    "import matplotlib.pyplot as plt\n",
    "import math\n",
    "import statistics as stats\n",
    "%matplotlib inline"
   ]
  },
  {
   "cell_type": "code",
   "execution_count": 274,
   "metadata": {
    "collapsed": true
   },
   "outputs": [],
   "source": [
    "### Correlations"
   ]
  },
  {
   "cell_type": "code",
   "execution_count": 275,
   "metadata": {
    "collapsed": false
   },
   "outputs": [],
   "source": [
    "x = np.random.normal(0,1, 100)\n",
    "y = np.random.normal(0,1, 100)"
   ]
  },
  {
   "cell_type": "code",
   "execution_count": 276,
   "metadata": {
    "collapsed": false
   },
   "outputs": [],
   "source": [
    "z = (0.85 * x) + (math.sqrt(1-0.85**2) * y)"
   ]
  },
  {
   "cell_type": "code",
   "execution_count": 277,
   "metadata": {
    "collapsed": false
   },
   "outputs": [
    {
     "data": {
      "image/png": "[encoded data removed]",
      "text/plain": [
       "<matplotlib.figure.Figure at 0x108751208>"
      ]
     },
     "metadata": {},
     "output_type": "display_data"
    }
   ],
   "source": [
    "fig = plt.scatter(x, y, label='uncorrelated data', color='b', s=25, marker='o')\n",
    "ax = plt.axes()\n",
    "ax.set_xlabel('x')\n",
    "ax.set_ylabel('y')\n",
    "plt.title('uncorrelated data')\n",
    "plt.show(fig)"
   ]
  },
  {
   "cell_type": "code",
   "execution_count": 278,
   "metadata": {
    "collapsed": false
   },
   "outputs": [
    {
     "data": {
      "image/png": "[encoded data removed]",
      "text/plain": [
       "<matplotlib.figure.Figure at 0x1031b8d30>"
      ]
     },
     "metadata": {},
     "output_type": "display_data"
    }
   ],
   "source": [
    "fig = plt.scatter(x, z, label='uncorrelated data', color='b', s=25, marker='o')\n",
    "ax = plt.axes()\n",
    "ax.set_xlabel('x')\n",
    "ax.set_ylabel('z')\n",
    "plt.title('correlated data')\n",
    "plt.show(fig)"
   ]
  },
  {
   "cell_type": "code",
   "execution_count": 279,
   "metadata": {
    "collapsed": false
   },
   "outputs": [],
   "source": [
    "from scipy.stats.stats import pearsonr"
   ]
  },
  {
   "cell_type": "code",
   "execution_count": 280,
   "metadata": {
    "collapsed": false
   },
   "outputs": [
    {
     "data": {
      "text/plain": [
       "(0.01429247056090952, 0.88776330940974424)"
      ]
     },
     "execution_count": 280,
     "metadata": {},
     "output_type": "execute_result"
    }
   ],
   "source": [
    "pearsonr(x, y)\n",
    "### First value is correlation coefficient, second is two-tailed pvalue"
   ]
  },
  {
   "cell_type": "code",
   "execution_count": 281,
   "metadata": {
    "collapsed": false
   },
   "outputs": [
    {
     "name": "stdout",
     "output_type": "stream",
     "text": [
      "0.0142924705609\n"
     ]
    }
   ],
   "source": [
    "### Manually calculate correlation\n",
    "mean_x = x.mean()\n",
    "mean_y = y.mean()\n",
    "sd_x = x.std()\n",
    "sd_y = y.std()\n",
    "cor = stats.mean((x-mean_x)*(y-mean_y))/(sd_x * sd_y)\n",
    "print(cor)"
   ]
  },
  {
   "cell_type": "code",
   "execution_count": 282,
   "metadata": {
    "collapsed": false
   },
   "outputs": [],
   "source": [
    "##It matches well between the two approaches."
   ]
  },
  {
   "cell_type": "code",
   "execution_count": 283,
   "metadata": {
    "collapsed": false
   },
   "outputs": [
    {
     "data": {
      "text/plain": [
       "(0.87254006240830495, 2.9889503232358561e-32)"
      ]
     },
     "execution_count": 283,
     "metadata": {},
     "output_type": "execute_result"
    }
   ],
   "source": [
    "pearsonr(x, z)"
   ]
  },
  {
   "cell_type": "code",
   "execution_count": 284,
   "metadata": {
    "collapsed": true
   },
   "outputs": [],
   "source": [
    "### Fit a linear model\n",
    "from sklearn import linear_model "
   ]
  },
  {
   "cell_type": "code",
   "execution_count": 285,
   "metadata": {
    "collapsed": false
   },
   "outputs": [
    {
     "data": {
      "text/plain": [
       "LinearRegression(copy_X=True, fit_intercept=True, n_jobs=1, normalize=False)"
      ]
     },
     "execution_count": 285,
     "metadata": {},
     "output_type": "execute_result"
    }
   ],
   "source": [
    "regr = linear_model.LinearRegression()\n",
    "##Prep data for what regr expects\n",
    "x_rs = x.reshape(-1, 1)\n",
    "z_rs = z.reshape(-1, 1)\n",
    "regr.fit(x_rs, z_rs)\n"
   ]
  },
  {
   "cell_type": "code",
   "execution_count": 286,
   "metadata": {
    "collapsed": false
   },
   "outputs": [
    {
     "data": {
      "image/png": "[encoded data removed]",
      "text/plain": [
       "<matplotlib.figure.Figure at 0x111807470>"
      ]
     },
     "metadata": {},
     "output_type": "display_data"
    }
   ],
   "source": [
    "fig = plt.scatter(x, z, label='uncorrelated data', color='b', s=25, marker='o')\n",
    "ax = plt.axes()\n",
    "ax.set_xlabel('x')\n",
    "ax.set_ylabel('z')\n",
    "plt.title('correlated data')\n",
    "plt.plot(x_rs, regr.predict(x_rs), color='red', linewidth=0.5)\n",
    "plt.show(fig)"
   ]
  },
  {
   "cell_type": "code",
   "execution_count": 287,
   "metadata": {
    "collapsed": false
   },
   "outputs": [],
   "source": [
    "slope = round(regr.coef_[0][0], 2)\n",
    "y_intercept = round(regr.intercept_[0], 2)"
   ]
  },
  {
   "cell_type": "code",
   "execution_count": 288,
   "metadata": {
    "collapsed": false
   },
   "outputs": [
    {
     "data": {
      "image/png": "[encoded data removed]",
      "text/plain": [
       "<matplotlib.figure.Figure at 0x1119cbb70>"
      ]
     },
     "metadata": {},
     "output_type": "display_data"
    }
   ],
   "source": [
    "fig = plt.scatter(x, z, label='uncorrelated data', color='b', s=25, marker='o')\n",
    "ax = plt.axes()\n",
    "ax.set_xlabel('x')\n",
    "ax.set_ylabel('z')\n",
    "plt.title('correlated data')\n",
    "plt.plot(x_rs, regr.predict(x_rs), color='red', linewidth=0.5)\n",
    "ax.text(-2.75, 2.5, 'y=' + str(slope) + 'x+' + str(y_intercept))\n",
    "plt.show(fig)"
   ]
  },
  {
   "cell_type": "code",
   "execution_count": 289,
   "metadata": {
    "collapsed": false
   },
   "outputs": [
    {
     "name": "stdout",
     "output_type": "stream",
     "text": [
      "0.761326160507\n",
      "0.872540062408\n"
     ]
    },
    {
     "data": {
      "text/plain": [
       "0.76132616050748869"
      ]
     },
     "execution_count": 289,
     "metadata": {},
     "output_type": "execute_result"
    }
   ],
   "source": [
    "print(regr.score(x_rs, z_rs)) ##R^2 or Goodness of fit\n",
    "print(pearsonr(x, z)[0]) ##Correlation coefficient\n",
    "cor = pearsonr(x, z)[0]\n",
    "cor**2\n",
    "###Goodness of fit is correlation coefficient squared."
   ]
  },
  {
   "cell_type": "code",
   "execution_count": 290,
   "metadata": {
    "collapsed": false
   },
   "outputs": [
    {
     "data": {
      "image/png": "[encoded data removed]",
      "text/plain": [
       "<matplotlib.figure.Figure at 0x111d2ca20>"
      ]
     },
     "metadata": {},
     "output_type": "display_data"
    }
   ],
   "source": [
    "###Calculate Residuals\n",
    "mod_z = slope * x + y_intercept\n",
    "residuals = z - mod_z\n",
    "plt.hist(residuals)\n",
    "plt.show()"
   ]
  },
  {
   "cell_type": "code",
   "execution_count": 291,
   "metadata": {
    "collapsed": false
   },
   "outputs": [
    {
     "name": "stdout",
     "output_type": "stream",
     "text": [
      "0.489138891027\n",
      "0.489144513866\n"
     ]
    }
   ],
   "source": [
    "###Root Mean Squares\n",
    "print(residuals.std())\n",
    "rms = np.sqrt(stats.mean(residuals * residuals))\n",
    "print(rms)\n",
    "\n",
    "###Root mean square is the same(? or highly related) to the standard deviation\n",
    "###Variance is the mean of the square of all residuals (from a model or from the mean)"
   ]
  },
  {
   "cell_type": "code",
   "execution_count": null,
   "metadata": {
    "collapsed": false
   },
   "outputs": [],
   "source": [
    "###Variance scaling\n",
    "##Var(aX) = (a**2)Var(X)"
   ]
  },
  {
   "cell_type": "code",
   "execution_count": null,
   "metadata": {
    "collapsed": false
   },
   "outputs": [],
   "source": [
    "###Variance of two  variables\n",
    "#Var(X + Y) = Var(X) + Var(Y) + 2Cov(X, Y)\n",
    "###If random Cov(X,Y) = 0\n",
    "#Var(X + Y) = Var(X) + Var(Y)\n",
    "###If Var(X) = Var(Y)\n",
    "#Var(X + Y) = 2Var(X)\n",
    "###Variance of the mean of these values (i.e. multiple estimates of a mean of a population)\n",
    "#Var((X + Y)/2) = 2Var(X)/(2**2)\n",
    "#Var((X + Y)/2) = Var(X)/2\n",
    "#SD(X + Y) = SD(X)/sqrt(2) ####This is standard error"
   ]
  },
  {
   "cell_type": "code",
   "execution_count": null,
   "metadata": {
    "collapsed": false
   },
   "outputs": [],
   "source": []
  },
  {
   "cell_type": "code",
   "execution_count": null,
   "metadata": {
    "collapsed": true
   },
   "outputs": [],
   "source": []
  }
 ],
 "metadata": {
  "anaconda-cloud": {},
  "kernelspec": {
   "display_name": "Python [Root]",
   "language": "python",
   "name": "Python [Root]"
  },
  "language_info": {
   "codemirror_mode": {
    "name": "ipython",
    "version": 3
   },
   "file_extension": ".py",
   "mimetype": "text/x-python",
   "name": "python",
   "nbconvert_exporter": "python",
   "pygments_lexer": "ipython3",
   "version": "3.5.2"
  }
 },
 "nbformat": 4,
 "nbformat_minor": 0
}
