{
 "cells": [
  {
   "cell_type": "code",
   "execution_count": 12,
   "metadata": {
    "collapsed": false
   },
   "outputs": [
    {
     "name": "stdout",
     "output_type": "stream",
     "text": [
      "Using matplotlib backend: MacOSX\n"
     ]
    }
   ],
   "source": [
    "# coding: utf-8\n",
    "\n",
    "get_ipython().magic('matplotlib')\n",
    "\n",
    "import sys\n",
    "import os\n",
    "import argparse\n",
    "import glob\n",
    "import time\n",
    "import re\n",
    "import numpy as np\n",
    "import scipy\n",
    "import pandas as pd\n",
    "import pims\n",
    "from PIL import Image\n",
    "from skimage import io\n",
    "from skimage import color as col\n",
    "import matplotlib.pyplot as plt\n",
    "import matplotlib.lines as lines\n",
    "import matplotlib.patches as patches\n",
    "from matplotlib.animation import FuncAnimation\n",
    "from matplotlib.ticker import Formatter, Locator, NullLocator, FixedLocator, NullFormatter\n",
    "\n",
    "\n",
    "\n",
    "#parser = argparse.ArgumentParser();\n",
    "#parser.add_argument('-i', '--image', help='a directory that contains all the images for processing');\n",
    "#parser.add_argument('-d', '--data', help='a directory that contains tracking data files for the images to process');\n",
    "\n",
    "#arg = parser.parse_args();\n",
    "\n",
    "#image_dir = arg.image;\n",
    "#data_dir = arg.data;\n",
    "image_dir = '/Users/Jeff/Desktop/Batch09/';\n",
    "data_dir = '/Users/Jeff/Desktop/Batch09/120_spots/'\n",
    "os.chdir(data_dir);\n",
    "C1_data_file = glob.glob('C1*.txt');\n",
    "C2_data_file = glob.glob('C2*.txt');\n",
    "C1_data = pd.read_table(C1_data_file[0]);\n",
    "C2_data = pd.read_table(C2_data_file[0]);\n",
    "\n",
    "\n",
    "num_frames = 100;\n",
    "frame_number = 1;\n",
    "os.chdir(image_dir);\n",
    "image_list = glob.glob('*.tif');\n",
    "for i in image_list:\n",
    "    cur_image = i;\n",
    "    m = re.search('(Batch\\d+_.*_XY\\d+).*.tif', cur_image);\n",
    "    match = m.group(1);\n",
    "    \n",
    "    im = io.imread(cur_image)\n",
    "    \n",
    "    x = C1_data[C1_data.C1_Image.str.contains(match)];\n",
    "    singlets_c1 = x.C1_Image.unique();\n",
    "    \n",
    "    x2 = C2_data[C2_data.C2_Image.str.contains(match)];\n",
    "    singlets_c2 = x2.C2_Image.unique();\n",
    "    \n",
    "    fig = plt.figure(figsize=(5,5), frameon=False);\n",
    "    ax = fig.add_axes([0,0,1,1], xlim=(0,512), ylim=(512,0), aspect='equal', frameon=False);\n",
    "    ax.set_axis_off();\n",
    "    plt.margins(0,0)\n",
    "    ax.set_frame_on(False);\n",
    "    ax.set_xlim([0, 512]);\n",
    "    ax.set_ylim([512, 0]);\n",
    "    \n",
    "    \n",
    "    \n",
    "    num_singlets = singlets_c1.size;\n",
    "    x_location = np.full(num_singlets, np.nan);\n",
    "    x2_location = np.full(num_singlets, np.nan);\n",
    "    y_location = np.full(num_singlets, np.nan);\n",
    "    y2_location = np.full(num_singlets, np.nan);\n",
    "    \n",
    "    im_now = im[frame_number, :, :, :];\n",
    "    \n",
    "    x_line = np.full((num_singlets, num_frames), np.nan);\n",
    "    y_line = np.full((num_singlets, num_frames), np.nan);\n",
    "    x2_line = np.full((num_singlets, num_frames), np.nan);\n",
    "    y2_line = np.full((num_singlets, num_frames), np.nan);\n",
    "    \n",
    "    \n",
    "    implt = plt.imshow(im_now);\n",
    "    roi_1 = patches.Rectangle((80,98), 42, 42, fill=False, linewidth=1.5, color='yellow');\n",
    "    ax.add_patch(roi_1);\n",
    "    roi_2 = patches.Rectangle((406,278), 42, 42, fill=False, linewidth=1.5, color='yellow');\n",
    "    ax.add_patch(roi_2);\n",
    "    #roi_3 = patches.Rectangle((262,82), 42, 42, fill=False, linewidth=1.5, color='yellow');\n",
    "    #ax.add_patch(roi_3);\n",
    "    #roi_4 = patches.Rectangle((336,23), 53, 53, fill=False, linewidth=1.5, color='yellow');\n",
    "    #ax.add_patch(roi_4);\n",
    "\n",
    "    \n",
    "    for j in range(0,num_singlets):\n",
    "        \n",
    "        if not x[(x.C1_FRAME == frame_number) & (x.C1_Image == singlets_c1[j])].C1_Position_X.values.size == 0:\n",
    "            x_location[j] = x[(x.C1_FRAME == frame_number) & (x.C1_Image == singlets_c1[j])].C1_Position_X.values;\n",
    "            y_location[j] = x[(x.C1_FRAME == frame_number) & (x.C1_Image == singlets_c1[j])].C1_Position_Y.values;\n",
    "        else:\n",
    "            x_location[j] = np.nan;\n",
    "            y_location[j] = np.nan;\n",
    "        if not x2[(x2.C2_FRAME == frame_number) & (x2.C2_Image == singlets_c1[j])].C2_Position_X.values.size == 0:\n",
    "            x2_location[j] = x2[(x2.C2_FRAME == frame_number) & (x2.C2_Image == singlets_c1[j])].C2_Position_X.values;\n",
    "            y2_location[j] = x2[(x2.C2_FRAME == frame_number) & (x2.C2_Image == singlets_c1[j])].C2_Position_Y.values;\n",
    "        else:\n",
    "            x2_location[j] = np.nan;\n",
    "            y2_location[j] = np.nan;\n",
    "\n",
    "    if not x_location.size == 0:\n",
    "        scat = ax.scatter([x_location], [y_location], marker='+', c='0.75', s=60, linewidth=1.5);\n",
    "    if not x2_location.size == 0:\n",
    "        scat2 = ax.scatter([x2_location], [y2_location], marker='+', c='0.3', s=60, linewidth=1.5);\n",
    "\n",
    "    lines_c1 = [];\n",
    "    lines_c2 = [];\n",
    "\n",
    "    for j in range(0,num_singlets):\n",
    "        lobj = ax.plot([], [], c='0.9', linewidth=0.75)[0];\n",
    "        lines_c1.append(lobj);\n",
    "        lobj = ax.plot([], [], c='0.5', linewidth=0.75)[0];\n",
    "        lines_c2.append(lobj);\n",
    "\n",
    "\n",
    "    def update (frame_number):\n",
    "        im_now = im[frame_number, :, :, :];\n",
    "        implt.set_data(im_now);\n",
    "        for j in range(0,num_singlets):\n",
    "            if not x[(x.C1_FRAME == frame_number) & (x.C1_Image == singlets_c1[j])].C1_Position_X.values.size == 0:\n",
    "                x_location[j] = x[(x.C1_FRAME == frame_number) & (x.C1_Image == singlets_c1[j])].C1_Position_X.values;\n",
    "                y_location[j] = x[(x.C1_FRAME == frame_number) & (x.C1_Image == singlets_c1[j])].C1_Position_Y.values;\n",
    "            else:\n",
    "                x_location[j] = np.nan;\n",
    "                y_location[j] = np.nan;\n",
    "            if not x2[(x2.C2_FRAME == frame_number) & (x2.C2_Image == singlets_c1[j])].C2_Position_X.values.size == 0:\n",
    "                x2_location[j] = x2[(x2.C2_FRAME == frame_number) & (x2.C2_Image == singlets_c1[j])].C2_Position_X.values;\n",
    "                y2_location[j] = x2[(x2.C2_FRAME == frame_number) & (x2.C2_Image == singlets_c1[j])].C2_Position_Y.values;\n",
    "            else:\n",
    "                x2_location[j] = np.nan;\n",
    "                y2_location[j] = np.nan;\n",
    "\n",
    "        if not x_location.size == 0:\n",
    "            data = np.stack(([x_location], [y_location]), axis=-1)\n",
    "            scat.set_offsets(data);\n",
    "            x_line[:, frame_number - 1] = x_location;\n",
    "            y_line[:, frame_number - 1] = y_location;\n",
    "\n",
    "        if frame_number > 1:\n",
    "            for lnum, line in enumerate(lines_c1):\n",
    "                line.set_data(x_line[lnum, :frame_number], y_line[lnum, :frame_number]);\n",
    "        \n",
    "            if not x2_location.size == 0:\n",
    "                data2 = np.stack(([x2_location], [y2_location]), axis=-1)\n",
    "                scat2.set_offsets(data2);\n",
    "                x2_line[:, frame_number - 1] = x2_location;\n",
    "                y2_line[:, frame_number - 1] = y2_location;\n",
    "\n",
    "        if frame_number > 1:\n",
    "            for lnum, line in enumerate(lines_c2):\n",
    "                line.set_data(x2_line[lnum, :frame_number], y2_line[lnum, :frame_number]);\n",
    "        \n",
    "        return\n",
    "\n",
    "m = re.search('(Batch\\d+_.*_XY\\d+.*).tif', cur_image);\n",
    "match = m.group(1);\n",
    "animation = FuncAnimation(fig, update, frames=100, interval=80, repeat=True);\n",
    "animation.save(match + '.mp4', writer='ffmpeg', dpi=300, bitrate=12000, fps=14);\n",
    "plt.show();\n",
    "\n"
   ]
  },
  {
   "cell_type": "code",
   "execution_count": null,
   "metadata": {
    "collapsed": false
   },
   "outputs": [],
   "source": [
    "x_location"
   ]
  },
  {
   "cell_type": "code",
   "execution_count": null,
   "metadata": {
    "collapsed": false
   },
   "outputs": [],
   "source": [
    "num_singlets"
   ]
  },
  {
   "cell_type": "code",
   "execution_count": null,
   "metadata": {
    "collapsed": false
   },
   "outputs": [],
   "source": [
    "x.C1_Image.unique()"
   ]
  },
  {
   "cell_type": "code",
   "execution_count": null,
   "metadata": {
    "collapsed": false
   },
   "outputs": [],
   "source": [
    "x[(x.C1_FRAME == 0) & (x.C1_Image == singlets_c1[1])].C1_Position_X.values.size == 0"
   ]
  },
  {
   "cell_type": "code",
   "execution_count": null,
   "metadata": {
    "collapsed": false
   },
   "outputs": [],
   "source": [
    "x[(x.C1_FRAME == 0)].C1_Position_X.values"
   ]
  },
  {
   "cell_type": "code",
   "execution_count": null,
   "metadata": {
    "collapsed": true
   },
   "outputs": [],
   "source": [
    "    frame_number = 0\n",
    "    for j in range(0,num_singlets):    \n",
    "        \n",
    "        if not x[(x.C1_FRAME == frame_number) & (x.C1_Image == singlets_c1[j])].C1_Position_X.values.size == 0:\n",
    "            x_location[j] = x[(x.C1_FRAME == frame_number) & (x.C1_Image == singlets_c1[j])].C1_Position_X.values;   \n",
    "            y_location[j] = x[(x.C1_FRAME == frame_number) & (x.C1_Image == singlets_c1[j])].C1_Position_Y.values;   \n",
    "        else:\n",
    "            x_location[j] = np.nan;\n",
    "            y_location[j] = np.nan;\n",
    "        if not x2[(x2.C2_FRAME == frame_number) & (x2.C2_Image == singlets_c1[j])].C2_Position_X.values.size == 0:\n",
    "            x2_location[j] = x2[(x2.C2_FRAME == frame_number) & (x2.C2_Image == singlets_c1[j])].C2_Position_X.values;   \n",
    "            y2_location[j] = x2[(x2.C2_FRAME == frame_number) & (x2.C2_Image == singlets_c1[j])].C2_Position_Y.values;   \n",
    "        else:\n",
    "            x2_location[j] = np.nan;\n",
    "            y2_location[j] = np.nan;\n"
   ]
  },
  {
   "cell_type": "code",
   "execution_count": null,
   "metadata": {
    "collapsed": false
   },
   "outputs": [],
   "source": [
    "x_location"
   ]
  },
  {
   "cell_type": "code",
   "execution_count": null,
   "metadata": {
    "collapsed": true
   },
   "outputs": [],
   "source": [
    "scat = ax.scatter([x_location[0]], [y_location[0]], marker='+', c='r', s=120);\n",
    "\n"
   ]
  },
  {
   "cell_type": "code",
   "execution_count": null,
   "metadata": {
    "collapsed": false
   },
   "outputs": [],
   "source": [
    "import matplotlib;\n",
    "matplotlib.rcParams['animation.codec']"
   ]
  },
  {
   "cell_type": "code",
   "execution_count": null,
   "metadata": {
    "collapsed": false
   },
   "outputs": [],
   "source": [
    "tup = (5, 5);\n",
    "fig = plt.figure(figsize=tup, frameon=False, tight_layout=True);\n",
    "ax=fig.gca();\n",
    "ax.set_xlim([0, 512]);\n",
    "ax.set_ylim([512, 0]);\n",
    "ax.set_xticks([]);\n",
    "ax.set_yticks([]);\n",
    "ax.set_frame_on(False);\n",
    "implt = plt.imshow(im_now);"
   ]
  },
  {
   "cell_type": "code",
   "execution_count": null,
   "metadata": {
    "collapsed": true
   },
   "outputs": [],
   "source": [
    "ax=fig.gca();"
   ]
  },
  {
   "cell_type": "code",
   "execution_count": null,
   "metadata": {
    "collapsed": true
   },
   "outputs": [],
   "source": [
    "ax.set_frame_on(False);"
   ]
  },
  {
   "cell_type": "code",
   "execution_count": null,
   "metadata": {
    "collapsed": true
   },
   "outputs": [],
   "source": [
    "fig.tight_layout();"
   ]
  },
  {
   "cell_type": "code",
   "execution_count": null,
   "metadata": {
    "collapsed": true
   },
   "outputs": [],
   "source": [
    "ax.set_xlim([0, 512]);\n",
    "ax.set_ylim([512, 0]);\n",
    "ax.set_xticks([]);\n",
    "ax.set_yticks([]);"
   ]
  },
  {
   "cell_type": "code",
   "execution_count": null,
   "metadata": {
    "collapsed": true
   },
   "outputs": [],
   "source": [
    "implt = plt.imshow(im_now);"
   ]
  },
  {
   "cell_type": "code",
   "execution_count": null,
   "metadata": {
    "collapsed": true
   },
   "outputs": [],
   "source": [
    "ax.set_xlim([0, 512]);\n",
    "ax.set_ylim([512, 0]);\n",
    "ax.set_xticks([]);\n",
    "ax.set_yticks([]);"
   ]
  },
  {
   "cell_type": "code",
   "execution_count": null,
   "metadata": {
    "collapsed": true
   },
   "outputs": [],
   "source": [
    "implt = plt.imshow(im_now);"
   ]
  },
  {
   "cell_type": "code",
   "execution_count": null,
   "metadata": {
    "collapsed": true
   },
   "outputs": [],
   "source": [
    "fig = plt.figure(frameon=False);"
   ]
  },
  {
   "cell_type": "code",
   "execution_count": null,
   "metadata": {
    "collapsed": true
   },
   "outputs": [],
   "source": [
    "ax=fig.gca();\n"
   ]
  },
  {
   "cell_type": "code",
   "execution_count": null,
   "metadata": {
    "collapsed": false
   },
   "outputs": [],
   "source": [
    "implt.axes.axis('tight')"
   ]
  },
  {
   "cell_type": "code",
   "execution_count": null,
   "metadata": {
    "collapsed": false
   },
   "outputs": [],
   "source": [
    "fig = plt.figure(figsize=(5,5), frameon=False);"
   ]
  },
  {
   "cell_type": "code",
   "execution_count": null,
   "metadata": {
    "collapsed": false
   },
   "outputs": [],
   "source": [
    "# coding: utf-8\n",
    "\n",
    "get_ipython().magic('matplotlib')\n",
    "\n",
    "import sys\n",
    "import os\n",
    "import argparse\n",
    "import glob\n",
    "import time\n",
    "import re\n",
    "import numpy as np\n",
    "import scipy\n",
    "import pandas as pd\n",
    "import pims\n",
    "from PIL import Image\n",
    "from skimage import io\n",
    "from skimage import color as col\n",
    "import matplotlib.pyplot as plt\n",
    "import matplotlib.lines as lines\n",
    "from matplotlib.animation import FuncAnimation\n",
    "from matplotlib.ticker import Formatter, Locator, NullLocator, FixedLocator, NullFormatter\n",
    "\n"
   ]
  },
  {
   "cell_type": "code",
   "execution_count": null,
   "metadata": {
    "collapsed": true
   },
   "outputs": [],
   "source": []
  },
  {
   "cell_type": "code",
   "execution_count": null,
   "metadata": {
    "collapsed": false
   },
   "outputs": [],
   "source": [
    "fig = plt.figure(figsize=(5,5), frameon=False);\n",
    "ax = fig.add_axes([0,0,1,1], xlim=(0,512), ylim=(512,0), aspect='equal', frameon=False);\n",
    "implt = plt.imshow(im_now);\n",
    "rect = patches.Rectangle((20,20), 50, 50, fill=False, linewidth=1.5, color='w', linestyle='dashed');\n",
    "ax.add_patch(rect);"
   ]
  },
  {
   "cell_type": "code",
   "execution_count": null,
   "metadata": {
    "collapsed": false
   },
   "outputs": [],
   "source": [
    "im.shape()"
   ]
  },
  {
   "cell_type": "code",
   "execution_count": null,
   "metadata": {
    "collapsed": false
   },
   "outputs": [],
   "source": [
    "im.shape[0]"
   ]
  },
  {
   "cell_type": "code",
   "execution_count": null,
   "metadata": {
    "collapsed": false
   },
   "outputs": [],
   "source": [
    "singlets_c1"
   ]
  },
  {
   "cell_type": "code",
   "execution_count": null,
   "metadata": {
    "collapsed": false
   },
   "outputs": [],
   "source": [
    "singlets_c1"
   ]
  },
  {
   "cell_type": "code",
   "execution_count": null,
   "metadata": {
    "collapsed": false
   },
   "outputs": [],
   "source": [
    "m = re.search('(Batch\\d+_.*_XY\\d+.*_singlet\\d+).*.tif', cur_image);\n",
    "match = m.group(1);"
   ]
  },
  {
   "cell_type": "code",
   "execution_count": null,
   "metadata": {
    "collapsed": false
   },
   "outputs": [],
   "source": [
    "match"
   ]
  },
  {
   "cell_type": "code",
   "execution_count": null,
   "metadata": {
    "collapsed": true
   },
   "outputs": [],
   "source": [
    "    singlet_c1 = x.C1_Image.unique()[0];\n",
    "\n"
   ]
  },
  {
   "cell_type": "code",
   "execution_count": null,
   "metadata": {
    "collapsed": false
   },
   "outputs": [],
   "source": [
    "singlet_c1"
   ]
  },
  {
   "cell_type": "code",
   "execution_count": null,
   "metadata": {
    "collapsed": false
   },
   "outputs": [],
   "source": [
    "x.C1_Image == singlet_c1"
   ]
  },
  {
   "cell_type": "code",
   "execution_count": null,
   "metadata": {
    "collapsed": false
   },
   "outputs": [],
   "source": [
    "if not x[(x.C1_FRAME == frame_number) & (x.C1_Image == singlets_c1)].C1_Position_X.values.size == 0:\n",
    "    singlet_c1\n"
   ]
  },
  {
   "cell_type": "code",
   "execution_count": null,
   "metadata": {
    "collapsed": false
   },
   "outputs": [],
   "source": [
    "x.C1_FRAME == frame_number"
   ]
  },
  {
   "cell_type": "code",
   "execution_count": null,
   "metadata": {
    "collapsed": false
   },
   "outputs": [],
   "source": [
    "x[(x.C1_FRAME == frame_number) & (x.C1_Image == singlets_c1)]"
   ]
  },
  {
   "cell_type": "code",
   "execution_count": null,
   "metadata": {
    "collapsed": false
   },
   "outputs": [],
   "source": [
    "(x.C1_Image == singlets_c1)"
   ]
  },
  {
   "cell_type": "code",
   "execution_count": 19,
   "metadata": {
    "collapsed": false
   },
   "outputs": [],
   "source": [
    "fig = plt.figure(figsize=(5,5), frameon=False);\n",
    "ax = fig.add_axes([0,0,1,1], xlim=(0,512), ylim=(512,0), aspect='equal', frameon=False);\n",
    "ax.set_axis_off();\n",
    "plt.margins(0,0)\n",
    "ax.set_frame_on(False);\n",
    "ax.set_xlim([0, 512]);\n",
    "ax.set_ylim([512, 0]);\n",
    "im_now = im[1, :, :, :];\n",
    "plt.imshow(im_now);\n",
    "roi_1 = patches.Rectangle((80,98), 42, 42, fill=False, linewidth=1.5, color='yellow', );\n",
    "ax.add_patch(roi_1);\n",
    "roi_2 = patches.Rectangle((406,278), 42, 42, fill=False, linewidth=1.5, color='yellow');\n",
    "ax.add_patch(roi_2);\n",
    "roi_3 = patches.Rectangle((262,82), 42, 42, fill=False, linewidth=1.5, color='yellow');\n",
    "ax.add_patch(roi_3);\n",
    "roi_4 = patches.Rectangle((336,23), 53, 53, fill=False, linewidth=1.5, color='yellow');\n",
    "ax.add_patch(roi_4);\n",
    "fig.savefig('Batch09_08_XY02_frame1.png');"
   ]
  },
  {
   "cell_type": "code",
   "execution_count": null,
   "metadata": {
    "collapsed": true
   },
   "outputs": [],
   "source": []
  }
 ],
 "metadata": {
  "anaconda-cloud": {},
  "kernelspec": {
   "display_name": "Python [Root]",
   "language": "python",
   "name": "Python [Root]"
  },
  "language_info": {
   "codemirror_mode": {
    "name": "ipython",
    "version": 3
   },
   "file_extension": ".py",
   "mimetype": "text/x-python",
   "name": "python",
   "nbconvert_exporter": "python",
   "pygments_lexer": "ipython3",
   "version": "3.5.2"
  }
 },
 "nbformat": 4,
 "nbformat_minor": 0
}
